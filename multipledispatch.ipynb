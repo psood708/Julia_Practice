{
 "cells": [
  {
   "cell_type": "code",
   "execution_count": 4,
   "metadata": {},
   "outputs": [],
   "source": [
    "methods(+)\n",
    "import Base: +"
   ]
  },
  {
   "cell_type": "code",
   "execution_count": null,
   "metadata": {},
   "outputs": [],
   "source": [
    "#this will give an error\n",
    "\"hello \" + \"world! \"\n",
    "@which \"hello \" + \"world! \""
   ]
  },
  {
   "cell_type": "code",
   "execution_count": 8,
   "metadata": {},
   "outputs": [
    {
     "data": {
      "text/html": [
       "+(x::<b>String</b>, y::<b>String</b>) in Main at <a href=\"https://github.com/psood708/Julia_Practice/tree/14c927f54586387a25f69d7c6cbba12051ece5e3//multipledispatch.ipynb#L1\" target=\"_blank\">d:\\Julia-1.8.3\\Julia_Practice_Files\\multipledispatch.ipynb:1</a>"
      ],
      "text/plain": [
       "+(x::String, y::String) in Main at d:\\Julia-1.8.3\\Julia_Practice_Files\\multipledispatch.ipynb:1"
      ]
     },
     "metadata": {},
     "output_type": "display_data"
    }
   ],
   "source": [
    "#here we created a new dispatch and hence we can operate on the operation\n",
    "+(x::String, y::String) = string(x,y)\n",
    "\"hello \" + \"world! \"\n",
    "@which \"hello \"+ \"world \""
   ]
  },
  {
   "cell_type": "code",
   "execution_count": 15,
   "metadata": {},
   "outputs": [
    {
     "name": "stdout",
     "output_type": "stream",
     "text": [
      "Ducy-typed FOO!!\n"
     ]
    }
   ],
   "source": [
    "foo(x,y) = println(\"Ducy-typed FOO!!\")\n",
    "foo(x::Int, y::Float64) = println(\"Foo with int and float\")\n",
    "foo(x::Float64, y::Float64) = println(\"Foor with both floats\")\n",
    "foo(x::Int,y::Int) = println(\"Foo with two integerss\")\n",
    "foo(5.,\"P\")\n"
   ]
  },
  {
   "attachments": {},
   "cell_type": "markdown",
   "metadata": {},
   "source": [
    "Structs in JULIA"
   ]
  },
  {
   "cell_type": "code",
   "execution_count": 19,
   "metadata": {},
   "outputs": [
    {
     "data": {
      "text/plain": [
       "19.0"
      ]
     },
     "metadata": {},
     "output_type": "display_data"
    }
   ],
   "source": [
    "struct Myobj\n",
    "    field1\n",
    "    field2\n",
    "end\n",
    "\n",
    "myoj = Myobj(\"Hello\",\"World\")\n",
    "myoj.field1\n",
    "\n",
    "#we cannot change the value of a field of a struct\n",
    "#by default struct are immutable\n",
    "mutable struct Person\n",
    "    name::String\n",
    "    age::Float64\n",
    "end\n",
    "\n",
    "pk = Person(\"Parth\",19)\n",
    "pk.age\n",
    "     "
   ]
  },
  {
   "cell_type": "code",
   "execution_count": 23,
   "metadata": {},
   "outputs": [
    {
     "data": {
      "text/plain": [
       "5"
      ]
     },
     "metadata": {},
     "output_type": "display_data"
    }
   ],
   "source": [
    "#default constructor\n",
    "mutable struct Animal\n",
    "    name::String\n",
    "    age::Int\n",
    "    isActive\n",
    "    function Animal(name,age)\n",
    "        new(name,age,true)\n",
    "        #this is the new keyword\n",
    "    end\n",
    "end\n",
    "nper = Animal(\"LUKE\",4)\n",
    "\n",
    "function birthday(ani::Animal)\n",
    "    ani.age+=1\n",
    "end\n",
    "birthday(nper)"
   ]
  }
 ],
 "metadata": {
  "kernelspec": {
   "display_name": "Julia 1.8.3",
   "language": "julia",
   "name": "julia-1.8"
  },
  "language_info": {
   "file_extension": ".jl",
   "mimetype": "application/julia",
   "name": "julia",
   "version": "1.8.3"
  },
  "orig_nbformat": 4
 },
 "nbformat": 4,
 "nbformat_minor": 2
}
