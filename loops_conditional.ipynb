{
 "cells": [
  {
   "cell_type": "code",
   "execution_count": 5,
   "metadata": {},
   "outputs": [
    {
     "name": "stdout",
     "output_type": "stream",
     "text": [
      "1 2 3 4 5 6 7 8 9 10 "
     ]
    },
    {
     "name": "stdout",
     "output_type": "stream",
     "text": [
      "\n",
      "0 1 1 2 3 5 8 13 "
     ]
    }
   ],
   "source": [
    "#here we will start with loops\n",
    "#while loop\n",
    "\n",
    "n=0\n",
    "while n<10\n",
    "    n+=1\n",
    "    print(n,\" \")\n",
    "end\n",
    "println(\"\")\n",
    "fibo = [0,1,1,2,3,5,8,13]\n",
    "i=1\n",
    "while i<=length(fibo)\n",
    "    new = fibo[i]\n",
    "    print(\"$new \")\n",
    "    i+=1\n",
    "end\n",
    "#In julia indexing starts with 1\n"
   ]
  },
  {
   "cell_type": "code",
   "execution_count": 7,
   "metadata": {},
   "outputs": [
    {
     "name": "stdout",
     "output_type": "stream",
     "text": [
      "1 2 3 4 5 6 7 8 9 10 "
     ]
    }
   ],
   "source": [
    "#for loop\n",
    "for parth in 1:10\n",
    "    print(parth,\" \")\n",
    "end"
   ]
  },
  {
   "cell_type": "code",
   "execution_count": 14,
   "metadata": {},
   "outputs": [
    {
     "data": {
      "text/plain": [
       "5×5 Matrix{Int64}:\n",
       " 2  3  4  5   6\n",
       " 3  4  5  6   7\n",
       " 4  5  6  7   8\n",
       " 5  6  7  8   9\n",
       " 6  7  8  9  10"
      ]
     },
     "metadata": {},
     "output_type": "display_data"
    }
   ],
   "source": [
    "#addition tables\n",
    "m,n = 5,5\n",
    "A = zeros(m,n)\n",
    "for i in 1:m\n",
    "    for j in 1:n\n",
    "        A[i,j]=i+j\n",
    "    end\n",
    "end\n",
    "A\n",
    "#creating the exact same addition table above effectively\n",
    "B=zeros(3,3)\n",
    "for i in 1:3,j in 1:3\n",
    "    B[i,j] = i+j\n",
    "end\n",
    "B\n",
    "\n",
    "#here we will do by array comprehension\n",
    "C = [i+j for i in 1:m,j in 1:n]\n",
    "C\n",
    "\n",
    "\n"
   ]
  },
  {
   "cell_type": "code",
   "execution_count": 16,
   "metadata": {},
   "outputs": [
    {
     "data": {
      "text/plain": [
       "1×1 Matrix{Int64}:\n",
       " 2"
      ]
     },
     "metadata": {},
     "output_type": "display_data"
    },
    {
     "data": {
      "text/plain": [
       "2×2 Matrix{Int64}:\n",
       " 2  3\n",
       " 3  4"
      ]
     },
     "metadata": {},
     "output_type": "display_data"
    },
    {
     "data": {
      "text/plain": [
       "3×3 Matrix{Int64}:\n",
       " 2  3  4\n",
       " 3  4  5\n",
       " 4  5  6"
      ]
     },
     "metadata": {},
     "output_type": "display_data"
    },
    {
     "data": {
      "text/plain": [
       "4×4 Matrix{Int64}:\n",
       " 2  3  4  5\n",
       " 3  4  5  6\n",
       " 4  5  6  7\n",
       " 5  6  7  8"
      ]
     },
     "metadata": {},
     "output_type": "display_data"
    },
    {
     "data": {
      "text/plain": [
       "5×5 Matrix{Int64}:\n",
       " 2  3  4  5   6\n",
       " 3  4  5  6   7\n",
       " 4  5  6  7   8\n",
       " 5  6  7  8   9\n",
       " 6  7  8  9  10"
      ]
     },
     "metadata": {},
     "output_type": "display_data"
    }
   ],
   "source": [
    "#here we will implements array comprehension in a for loop\n",
    "for n in 1:5\n",
    "    A=[i+j for i in 1:n,j in 1:n]\n",
    "    display(A)\n",
    "end"
   ]
  },
  {
   "cell_type": "code",
   "execution_count": 4,
   "metadata": {},
   "outputs": [
    {
     "name": "stdout",
     "output_type": "stream",
     "text": [
      "54 is greater than 40\n"
     ]
    },
    {
     "ename": "ErrorException",
     "evalue": "syntax: space required before colon in \"?\" expression",
     "output_type": "error",
     "traceback": [
      "syntax: space required before colon in \"?\" expression\n",
      "\n",
      "Stacktrace:\n",
      " [1] top-level scope\n",
      "   @ d:\\Julia-1.8.3\\Julia_Practice_Files\\loops_conditional.ipynb:9"
     ]
    }
   ],
   "source": [
    "##here we will be using conditional statements\n",
    "x = 40\n",
    "y = 54\n",
    "if x>y\n",
    "    println(\"$x is greater than $y\")\n",
    "else\n",
    "    println(\"$y is greater than $x\")\n",
    "end\n",
    "\n",
    "#we can also use ternanry operatorss for this"
   ]
  }
 ],
 "metadata": {
  "kernelspec": {
   "display_name": "Julia 1.8.3",
   "language": "julia",
   "name": "julia-1.8"
  },
  "language_info": {
   "file_extension": ".jl",
   "mimetype": "application/julia",
   "name": "julia",
   "version": "1.8.3"
  },
  "orig_nbformat": 4
 },
 "nbformat": 4,
 "nbformat_minor": 2
}
