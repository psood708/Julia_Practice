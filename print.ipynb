{
 "cells": [
  {
   "cell_type": "code",
   "execution_count": 1,
   "metadata": {},
   "outputs": [
    {
     "name": "stdout",
     "output_type": "stream",
     "text": [
      "I am learning Julia\n"
     ]
    }
   ],
   "source": [
    "println(\"I am learning Julia\");"
   ]
  },
  {
   "cell_type": "code",
   "execution_count": 7,
   "metadata": {},
   "outputs": [
    {
     "data": {
      "text/plain": [
       "Int64"
      ]
     },
     "metadata": {},
     "output_type": "display_data"
    }
   ],
   "source": [
    "# here we will assign values\n",
    "val = 42\n",
    "typeof(val)\n",
    "# print(val)"
   ]
  },
  {
   "cell_type": "code",
   "execution_count": 5,
   "metadata": {},
   "outputs": [
    {
     "data": {
      "text/plain": [
       "Float64"
      ]
     },
     "metadata": {},
     "output_type": "display_data"
    }
   ],
   "source": [
    "pp = 3.14159\n",
    "typeof(pp)\n"
   ]
  },
  {
   "cell_type": "code",
   "execution_count": 9,
   "metadata": {},
   "outputs": [
    {
     "data": {
      "text/plain": [
       "true"
      ]
     },
     "metadata": {},
     "output_type": "display_data"
    }
   ],
   "source": [
    "😌 = 1\n",
    "🚀 = -1\n",
    "💀=0\n",
    "😌+🚀==💀\n",
    "#=p\n",
    "a\n",
    "r\n",
    "t\n",
    "h\n",
    "=#"
   ]
  },
  {
   "cell_type": "code",
   "execution_count": 24,
   "metadata": {},
   "outputs": [
    {
     "name": "stdout",
     "output_type": "stream",
     "text": [
      "365  hello  365.0"
     ]
    },
    {
     "data": {
      "text/plain": [
       "43.432"
      ]
     },
     "metadata": {},
     "output_type": "display_data"
    }
   ],
   "source": [
    "#exercise-1\n",
    "days =365\n",
    "days_float = 365.0\n",
    "convert(Float64,days)\n",
    "convert(Int,days_float)\n",
    "print(days ,\"  hello  \", days_float)\n",
    "parse(Float64,\"43.432\")"
   ]
  },
  {
   "cell_type": "code",
   "execution_count": null,
   "metadata": {},
   "outputs": [],
   "source": []
  }
 ],
 "metadata": {
  "kernelspec": {
   "display_name": "Julia 1.8.3",
   "language": "julia",
   "name": "julia-1.8"
  },
  "language_info": {
   "file_extension": ".jl",
   "mimetype": "application/julia",
   "name": "julia",
   "version": "1.8.3"
  },
  "orig_nbformat": 4,
  "vscode": {
   "interpreter": {
    "hash": "85c33c971fe848e227dd1e536b4277387c9539e50f1d73a227c0b5c33332d05b"
   }
  }
 },
 "nbformat": 4,
 "nbformat_minor": 2
}
