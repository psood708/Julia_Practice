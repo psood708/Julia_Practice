{
 "cells": [
  {
   "cell_type": "code",
   "execution_count": 8,
   "metadata": {},
   "outputs": [
    {
     "data": {
      "text/plain": [
       "Dict{String, Int64} with 3 entries:\n",
       "  \"Prakash\" => 133\n",
       "  \"Parth\"   => 12312\n",
       "  \"Nimesh\"  => 890012"
      ]
     },
     "metadata": {},
     "output_type": "display_data"
    }
   ],
   "source": [
    "#=here we will be seeing\n",
    "# 1)Dictionaries\n",
    "# 2)TUples\n",
    "# 3)Arrays =#\n",
    "\n",
    "#These are dictionaries\n",
    "myphonebook = Dict(\"Parth\"=>12312,\"kailah\"=>34124,\"Prakash\"=>133)\n",
    "myphonebook[\"Nimesh\"]=890012\n",
    "myphonebook\n",
    "myphonebook[\"Parth\"]\n",
    "#to delete any entry we use pop!\n",
    "x = pop!(myphonebook,\"kailah\")\n",
    "myphonebook\n"
   ]
  },
  {
   "cell_type": "code",
   "execution_count": 10,
   "metadata": {},
   "outputs": [
    {
     "data": {
      "text/plain": [
       "\"Samosa\""
      ]
     },
     "metadata": {},
     "output_type": "display_data"
    }
   ],
   "source": [
    "#Tuples (immutable)\n",
    "favFood = (\"Pani-puri\",\"Samosa\",\"Momos\")\n",
    "favFood[2]"
   ]
  },
  {
   "cell_type": "code",
   "execution_count": 15,
   "metadata": {},
   "outputs": [
    {
     "data": {
      "text/plain": [
       "9-element Vector{Int64}:\n",
       "  1\n",
       "  1\n",
       "  4\n",
       "  6\n",
       "  7\n",
       "  4\n",
       "  6\n",
       " 10\n",
       "  7"
      ]
     },
     "metadata": {},
     "output_type": "display_data"
    }
   ],
   "source": [
    "#Arrays\n",
    "fibo = [1,1,4,6,7,4,6,10]\n",
    "fibo\n",
    "push!(fibo,7)\n",
    "#here push and pop will work as stack"
   ]
  },
  {
   "cell_type": "code",
   "execution_count": 19,
   "metadata": {},
   "outputs": [
    {
     "data": {
      "text/plain": [
       "4×5×2 Array{Float64, 3}:\n",
       "[:, :, 1] =\n",
       " 0.975091   0.77152   0.360955   0.136856  0.674203\n",
       " 0.0587464  0.839775  0.0799467  0.465941  0.18629\n",
       " 0.166018   0.818697  0.136476   0.546301  0.62695\n",
       " 0.410837   0.86106   0.315732   0.321063  0.120293\n",
       "\n",
       "[:, :, 2] =\n",
       " 0.203098  0.248978  0.637122  0.557749   0.878735\n",
       " 0.320951  0.990688  0.524311  0.749362   0.488762\n",
       " 0.94123   0.509533  0.126611  0.0866714  0.720878\n",
       " 0.296004  0.358602  0.034644  0.539337   0.5911"
      ]
     },
     "metadata": {},
     "output_type": "display_data"
    }
   ],
   "source": [
    "rand(4,5,2)"
   ]
  }
 ],
 "metadata": {
  "kernelspec": {
   "display_name": "Julia 1.8.3",
   "language": "julia",
   "name": "julia-1.8"
  },
  "language_info": {
   "file_extension": ".jl",
   "mimetype": "application/julia",
   "name": "julia",
   "version": "1.8.3"
  },
  "orig_nbformat": 4,
  "vscode": {
   "interpreter": {
    "hash": "85c33c971fe848e227dd1e536b4277387c9539e50f1d73a227c0b5c33332d05b"
   }
  }
 },
 "nbformat": 4,
 "nbformat_minor": 2
}
