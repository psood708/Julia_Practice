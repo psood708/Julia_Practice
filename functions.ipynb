{
 "cells": [
  {
   "cell_type": "code",
   "execution_count": 6,
   "metadata": {},
   "outputs": [
    {
     "name": "stdout",
     "output_type": "stream",
     "text": [
      "You all will be pursuing CSE\n",
      "Hi Parth welcome to the class!!\n"
     ]
    }
   ],
   "source": [
    "#here we will learnn how to use functions\n",
    "function squ(x)\n",
    "    x^2\n",
    "end\n",
    "squ(\"Parth\")\n",
    "\n",
    "#here we will see how to put functions in single line\n",
    "class(course) = println(\"You all will be pursuing $course\")\n",
    "#implementing one class in other\n",
    "function student(name)\n",
    "    class(\"CSE\")\n",
    "    println(\"Hi $name welcome to the class!!\")\n",
    "end\n",
    "student(\"Parth\")\n"
   ]
  },
  {
   "cell_type": "code",
   "execution_count": 11,
   "metadata": {},
   "outputs": [
    {
     "data": {
      "text/plain": [
       "3-element Vector{Int64}:\n",
       " 3\n",
       " 5\n",
       " 1"
      ]
     },
     "metadata": {},
     "output_type": "display_data"
    }
   ],
   "source": [
    "#Anonymous functions\n",
    "new_stud = rollno->println(\"Your roll no. is $rollno\")\n",
    "\n",
    "#Mutating and Non-Mutating functions\n",
    "#mutating are with ! sign  \n",
    "v = [3,5,1]\n",
    "sort(v)\n",
    "v"
   ]
  },
  {
   "cell_type": "code",
   "execution_count": 21,
   "metadata": {},
   "outputs": [
    {
     "data": {
      "text/plain": [
       "3-element Vector{Int64}:\n",
       " 1\n",
       " 4\n",
       " 9"
      ]
     },
     "metadata": {},
     "output_type": "display_data"
    }
   ],
   "source": [
    "#BROADCASTING\n",
    "#f() and f.()\n",
    "f(a) = a^2\n",
    "A = [i+3*j for j in 0:2, i in 1:3]\n",
    "A\n",
    "f(A) #whole matrix will get multiplied\n",
    "#here if we use f.() the operation of f will be done to every element nd not the whole\n",
    "f.(A)\n",
    "v = [1,2,3]\n",
    "f.(v)"
   ]
  }
 ],
 "metadata": {
  "kernelspec": {
   "display_name": "Julia 1.8.3",
   "language": "julia",
   "name": "julia-1.8"
  },
  "language_info": {
   "file_extension": ".jl",
   "mimetype": "application/julia",
   "name": "julia",
   "version": "1.8.3"
  },
  "orig_nbformat": 4
 },
 "nbformat": 4,
 "nbformat_minor": 2
}
